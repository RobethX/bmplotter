{
 "metadata": {
  "language_info": {
   "codemirror_mode": {
    "name": "ipython",
    "version": 3
   },
   "file_extension": ".py",
   "mimetype": "text/x-python",
   "name": "python",
   "nbconvert_exporter": "python",
   "pygments_lexer": "ipython3",
   "version": "3.8.5-final"
  },
  "orig_nbformat": 2,
  "kernelspec": {
   "name": "python38564bitvenv47861dbd4a8b4da596154576711d50f0",
   "display_name": "Python 3.8.5 64-bit ('.venv')",
   "language": "python"
  }
 },
 "nbformat": 4,
 "nbformat_minor": 2,
 "cells": [
  {
   "cell_type": "code",
   "execution_count": 1,
   "metadata": {},
   "outputs": [],
   "source": [
    "import sys\n",
    "from IPython.display import HTML\n",
    "\n",
    "import numpy as np\n",
    "from PIL import Image\n",
    "\n",
    "sys.path.append(\"../\")\n",
    "from bmplotter import utils, generators, svg2gcode"
   ]
  },
  {
   "cell_type": "code",
   "execution_count": 2,
   "metadata": {},
   "outputs": [],
   "source": [
    "img = Image.open(\"data/gompei.jpg\")\n",
    "channels = Image.Image.split(img)"
   ]
  },
  {
   "cell_type": "code",
   "execution_count": 7,
   "metadata": {},
   "outputs": [],
   "source": [
    "gen = generators.Squiggle()\n",
    "c = 0\n",
    "\n",
    "COLORS = [\"#00FFFF\", \"#FF00FF\", \"#FFFF00\"] # CMY\n",
    "\n",
    "while c < len(channels):\n",
    "    gen.img = channels[c]\n",
    "    paths = gen.generate(color=COLORS[c])\n",
    "    paths_optimized = utils.svg.optimize(paths)\n",
    "    gcode = svg2gcode.generate_gcode(paths_optimized)\n",
    "\n",
    "    c += 1"
   ]
  },
  {
   "cell_type": "code",
   "execution_count": null,
   "metadata": {},
   "outputs": [],
   "source": []
  }
 ]
}